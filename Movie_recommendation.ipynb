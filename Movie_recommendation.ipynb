{
 "cells": [
  {
   "cell_type": "markdown",
   "metadata": {},
   "source": [
    "Machine learning pipeline\n",
    "\n",
    "Data extract and cleaning\n",
    "\n",
    "Build model\n",
    "\n",
    "Building software infrastructure"
   ]
  },
  {
   "cell_type": "markdown",
   "metadata": {},
   "source": [
    "Recommendation stratergy\n",
    "1. Popular trending movies(most watched)\n",
    "2. content based recommendation(similar movies are recommended)\n",
    "3. collaborative filterning (user A and B watches movie k, user A watches movie L , recommended movie L to user B)\n"
   ]
  },
  {
   "cell_type": "code",
   "execution_count": 154,
   "metadata": {},
   "outputs": [
    {
     "ename": "SyntaxError",
     "evalue": "from __future__ imports must occur at the beginning of the file (<ipython-input-154-e40c6bc24600>, line 5)",
     "output_type": "error",
     "traceback": [
      "\u001b[1;36m  File \u001b[1;32m\"<ipython-input-154-e40c6bc24600>\"\u001b[1;36m, line \u001b[1;32m5\u001b[0m\n\u001b[1;33m    from sklearn.metrics.pairwise import cosine_similarity\u001b[0m\n\u001b[1;37m           ^\u001b[0m\n\u001b[1;31mSyntaxError\u001b[0m\u001b[1;31m:\u001b[0m from __future__ imports must occur at the beginning of the file\n"
     ]
    }
   ],
   "source": [
    "import pandas as pd\n",
    "from __future__ import print_function\n",
    "import numpy as np\n",
    "from sklearn.feature_extraction.text import CountVectorizer\n",
    "from sklearn.metrics.pairwise import cosine_similarity\n",
    "from ipywidgets import interact, interactive, fixed, interact_manual\n",
    "import ipywidgets as widgets"
   ]
  },
  {
   "cell_type": "code",
   "execution_count": 8,
   "metadata": {},
   "outputs": [
    {
     "name": "stdout",
     "output_type": "stream",
     "text": [
      "[[2 1]\n",
      " [1 2]]\n",
      "[[1.  0.8]\n",
      " [0.8 1. ]]\n"
     ]
    }
   ],
   "source": [
    "text = ['london paris london','paris paris london']\n",
    "cv = CountVectorizer()\n",
    "cv_fit=cv.fit_transform(text)\n",
    "print(cv_fit.toarray())\n",
    "\n",
    "similarity_scores = cosine_similarity(cv_fit)\n",
    "print(similarity_scores)"
   ]
  },
  {
   "cell_type": "code",
   "execution_count": 1,
   "metadata": {},
   "outputs": [],
   "source": [
    "\n",
    "df = pd.read_csv(r'https://raw.githubusercontent.com/codeheroku/Introduction-to-Machine-Learning/master/Building%20a%20Movie%20Recommendation%20Engine/movie_dataset.csv')"
   ]
  },
  {
   "cell_type": "code",
   "execution_count": 156,
   "metadata": {},
   "outputs": [
    {
     "name": "stdout",
     "output_type": "stream",
     "text": [
      " Avatar\n",
      " Guardians of the Galaxy\n",
      " Alien\n",
      " Aliens\n",
      " Star Wars: Clone Wars: Volume 1\n",
      " Space Dogs\n",
      " Cargo\n",
      " Star Trek Beyond\n",
      " Moonraker\n",
      " Jason X\n"
     ]
    },
    {
     "data": {
      "text/plain": [
       "<ipywidgets.widgets.interaction._InteractFactory at 0x24de75606c8>"
      ]
     },
     "execution_count": 156,
     "metadata": {},
     "output_type": "execute_result"
    }
   ],
   "source": [
    "def get_index(title):\n",
    "    return df[df['title'] == title]['index']\n",
    "\n",
    "def get_title(index):\n",
    "    d = df[df['index'] == index]\n",
    "    return d['title'].to_string(index = False)\n",
    "    \n",
    "\n",
    "features = ['keywords','cast','genres','director']\n",
    "for feature in features:\n",
    "    df[feature] = df[feature].fillna('')\n",
    "\n",
    "def combine_features(row):\n",
    "    return row['keywords'] + ''+ row['cast'] + '' + row['genres'] + '' + row['director']\n",
    "\n",
    "\n",
    "df['combined_features'] = df.apply(combine_features,axis = 1)\n",
    "\n",
    "count_matrix = cv.fit_transform(df['combined_features'])\n",
    "cosine_sim = cosine_similarity(count_matrix)\n",
    "\n",
    "\n",
    "def recommender(cosine_sim,movie_name):\n",
    "    movie_index = get_index(movie_name)\n",
    "    movie_cosine_sim = cosine_sim[movie_index]\n",
    "    movie_cosine_sim = movie_cosine_sim.reshape(-1)\n",
    "    similar_movies = list(enumerate(movie_cosine_sim))\n",
    "    sorted_similar_movies = sorted(similar_movies,key = lambda x:x[1],reverse = True)\n",
    "\n",
    "    i = 0\n",
    "    for movie in sorted_similar_movies:\n",
    "        print(get_title(movie[0]))\n",
    "        i+=1\n",
    "        if(i > 9):\n",
    "            break\n",
    "\n",
    "\n",
    "interact(recommender(cosine_sim, movie_name='Avatar'))\n",
    "\n",
    "\n",
    "\n"
   ]
  }
 ],
 "metadata": {
  "hide_input": false,
  "kernelspec": {
   "display_name": "Python 3",
   "language": "python",
   "name": "python3"
  },
  "language_info": {
   "codemirror_mode": {
    "name": "ipython",
    "version": 3
   },
   "file_extension": ".py",
   "mimetype": "text/x-python",
   "name": "python",
   "nbconvert_exporter": "python",
   "pygments_lexer": "ipython3",
   "version": "3.7.6"
  }
 },
 "nbformat": 4,
 "nbformat_minor": 4
}
